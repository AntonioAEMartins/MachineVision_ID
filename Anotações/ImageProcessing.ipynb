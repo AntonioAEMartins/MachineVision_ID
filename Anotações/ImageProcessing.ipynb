{
 "cells": [
  {
   "cell_type": "markdown",
   "metadata": {},
   "source": [
    "# Image Processing Onramp\n",
    "## Anotações Conceituais\n",
    "### Antônio Amaral Egydio Martins"
   ]
  },
  {
   "cell_type": "markdown",
   "metadata": {},
   "source": [
    "#### *Porque Converter uma Imagem para Grayscale*\n",
    "\n",
    "Quando imagens são carregadas na memória de um computador elas são armazenadas como uma matriz de bytes, podendo ter milhares, milhões ou até mesmo bilhões de itens com valores indo de 0 a 255 (2 Bytes). Com isso a forma, pela qual uma imagem é armazenada afeta o modelo de Machine Vision utilizado e em casos extremos afeta o poder de processamento de um modelo.\n",
    "\n",
    "Com isso em mente muitos projetos que não precisam levar em consideração todas as informações de todos os Pixels de uma imagem carregam-a em GrayScale, deixando apenas valores de cores Cinza - que não distorcem a imagem, ou fazem ela perder o sentido para olhos humanos - diminuindo o tamanho ocupado em 66%."
   ]
  },
  {
   "cell_type": "markdown",
   "metadata": {},
   "source": [
    "#### *Comentários Gerias*\n",
    "\n",
    "Curso em sí é interessante porque apresenta uma visão complementar e aprofundada do curso de graduação \"Robotica Computacional\", aproveitando para entrar em tópicos de processamento de imagem, processamento de dados - entre quais são as melhores formas de interagir com todas as informações. No caso de um aluno não ter conhecimento algo de visão computacional ou uso do MatLab para programar ele não conseguirá entender o porque deste curso, caso seja apresentado de forma unica. Sendo assim há a necessidade de complementar com outros cursos e Arquivos.\n",
    "\n",
    "- Introduction\n",
    "\n",
    "Introdução simples ao tema e Termos, não entra em programação...\n",
    "\n",
    "- Workng with Images in MATLAB\n",
    "\n",
    "Introdução de termos, códigos para chamada. Neste módulo o aluno aprenderá:\n",
    "\n",
    "1. Como tratar Imagens (Porque devemos optar por diferentes formas de coloração)\n",
    "2. Transformar imagems em GrayScale + Ajustar contraste da Imagem\n",
    "\n",
    "- Segmenting an Image\n",
    "\n",
    "Aprofundamento de tratamento de imagens. Este módulo têm foco de apresentar alguns tópicos aos alunos sobre segmentação... Sempre mirado em utilizar o Machine Vision para interpretar contas de restaurante. Nesta seção o aluno aprenderá:\n",
    "\n",
    "1. Segmentação, Intensidade de Threshold\n",
    "2. Como trabalhar com imagens binárias\n",
    "\n",
    "- Pre- and Postprocessing Techniques\n",
    "\n",
    "Aprofundaento de Segmentação. Neste módulo o aluno que não tem conhecimento algum de Machine Vision se perderá, porque MatLab inicia o tratamento de imagens de forma complexa, utilizando filtros, subtração matricial, alteração de morfologia... Aqui o aluno aprenderá:\n",
    "\n",
    "1. Melhorar seus conceitos de segmentação\n",
    "2. Aplicar filtros em imagens com objetivos de Aumentar/Reduzir legibilidade\n",
    "3. Criar e aplicar morfologia\n",
    "\n",
    "\n",
    "- Classification and atch Processing\n",
    "\n",
    "Parte de Classificação de imagens e Datastore. Não é o foco que estamos procurando."
   ]
  }
 ],
 "metadata": {
  "language_info": {
   "name": "python"
  },
  "orig_nbformat": 4
 },
 "nbformat": 4,
 "nbformat_minor": 2
}
